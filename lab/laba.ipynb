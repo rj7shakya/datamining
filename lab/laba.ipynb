{
 "cells": [
  {
   "cell_type": "markdown",
   "metadata": {},
   "source": [
    "# lab assesment\n"
   ]
  },
  {
   "cell_type": "code",
   "execution_count": 1,
   "metadata": {},
   "outputs": [],
   "source": [
    "import numpy as np\n",
    "import pandas as pd\n",
    "from numpy import log2 as log\n",
    "from sklearn import tree\n",
    "import pydotplus\n",
    "from IPython.display import Image\n",
    "import time"
   ]
  },
  {
   "cell_type": "code",
   "execution_count": 2,
   "metadata": {},
   "outputs": [],
   "source": [
    "eps = np.finfo(float).eps"
   ]
  },
  {
   "cell_type": "code",
   "execution_count": 12,
   "metadata": {},
   "outputs": [],
   "source": [
    "dataset = {'Green':['n','y','y','n','y','n','n','n','y','n' ],\n",
    "            'legs':[3,2,3,2,3,2,2,2,2,2],\n",
    "            'Height':['s','t','t','s','t','t','s','t','s','t'],\n",
    "            'Smelly':['y','n','n','y','y','y','n','n','n','y'],\n",
    "           'Species':['m','m','m','m','m','h','h','h','h','h' ]\n",
    "          }"
   ]
  },
  {
   "cell_type": "code",
   "execution_count": 14,
   "metadata": {},
   "outputs": [
    {
     "name": "stdout",
     "output_type": "stream",
     "text": [
      "  Green  legs Height Smelly Species\n",
      "0     n     3      s      y       m\n",
      "1     y     2      t      n       m\n",
      "2     y     3      t      n       m\n",
      "3     n     2      s      y       m\n",
      "4     y     3      t      y       m\n",
      "5     n     2      t      y       h\n",
      "6     n     2      s      n       h\n",
      "7     n     2      t      n       h\n",
      "8     y     2      s      n       h\n",
      "9     n     2      t      y       h\n"
     ]
    }
   ],
   "source": [
    "df = pd.DataFrame(dataset, columns=['Green','legs','Height','Smelly','Species'])\n",
    "print(df)"
   ]
  },
  {
   "cell_type": "code",
   "execution_count": 15,
   "metadata": {},
   "outputs": [
    {
     "name": "stdout",
     "output_type": "stream",
     "text": [
      "Parent Entropy is:  1.0\n"
     ]
    }
   ],
   "source": [
    "#q1\n",
    "entropy_node = 0\n",
    "values = df.Species.unique()\n",
    "for value in values:\n",
    "    fraction = df.Species.value_counts()[value]/len(df.Species)\n",
    "    entropy_node += -fraction * np.log2(fraction)\n",
    "    \n",
    "print('Parent Entropy is: ', entropy_node)"
   ]
  },
  {
   "cell_type": "code",
   "execution_count": 21,
   "metadata": {},
   "outputs": [],
   "source": [
    "def index(attribute):\n",
    "    attribute = attribute\n",
    "    target_variables  = df.Species.unique()\n",
    "    variables = df[attribute].unique()\n",
    "    entropy_attribute = 0\n",
    "    for variable in variables:\n",
    "        entropy_each_feature = 0\n",
    "        for target_variable in target_variables:\n",
    "            num = len(df[attribute][df[attribute]==variable][df.Species == target_variable])\n",
    "            den = len(df[attribute][df[attribute]==variable])\n",
    "            fraction = num/(den+eps)\n",
    "            entropy_each_feature += fraction*log(fraction+eps)\n",
    "        fraction2 = den/len(df)\n",
    "        entropy_attribute += -fraction2*entropy_each_feature\n",
    "\n",
    "    IG_attribute = entropy_node - abs(entropy_attribute)\n",
    "    print(\"Entropy of \", attribute, \"is: \", round(abs(entropy_attribute),3))\n",
    "    print(\"IG \", \"due to\", attribute, \"is: \", round(IG_attribute,3))\n",
    "    \n",
    "# index('Smelly')\n",
    "# index('Green')\n",
    "# index('legs')\n",
    "# index('Height')"
   ]
  },
  {
   "cell_type": "code",
   "execution_count": 25,
   "metadata": {},
   "outputs": [
    {
     "name": "stdout",
     "output_type": "stream",
     "text": [
      "0\n"
     ]
    }
   ],
   "source": [
    "#q2\n",
    "x_columns = pd.get_dummies(df[['Green','legs','Height','Smelly','Species']])\n",
    "\n",
    "for rand in range(1):\n",
    "    dtree = tree.DecisionTreeClassifier(max_features = 2, random_state = rand, max_depth = 6, \n",
    "                                        criterion = 'gini', splitter = 'best')\n",
    "    model = dtree.fit(x_columns,df['Species'])\n",
    "    out_file = tree.export_graphviz(model,feature_names = list(x_columns.columns.values), class_names = ['M','H'], filled = True, rounded = True)\n",
    "    graph = pydotplus.graph_from_dot_data(out_file)\n",
    "    Image(graph.create_png())\n",
    "    graph.write_png('tree2.png')\n",
    "    print(rand)\n",
    "#     time.sleep(5)\n",
    "    \n",
    "    "
   ]
  },
  {
   "cell_type": "code",
   "execution_count": 8,
   "metadata": {},
   "outputs": [],
   "source": [
    "#q3\n",
    "# fraction=0\n",
    "import pprint\n",
    "def find_entropy(df):\n",
    "    global fraction\n",
    "    Class = df.keys()[-1]\n",
    "    entropy = 0\n",
    "    values = df[Class].unique()\n",
    "    for value in values:\n",
    "        fraction += df[Class].value_counts()[value]/len(df[Class])\n",
    "        entropy += -fraction*np.log2(fraction)\n",
    "    return entropy\n",
    "        "
   ]
  },
  {
   "cell_type": "code",
   "execution_count": 9,
   "metadata": {},
   "outputs": [],
   "source": [
    "def find_entropy_attribute(df,attribute):\n",
    "    Class = df.keys()[-1]\n",
    "    target_variables = df[Class].unique()\n",
    "    variables = df[attribute].unique()\n",
    "    entropy2 = 0\n",
    "    for variable in variables:\n",
    "        entropy = 0\n",
    "        for target_variable in target_variables:\n",
    "            num = len(df[attribute][df[attribute]==variable][df[Class] == target_variable])\n",
    "            den = len(df[attribute][df[attribute]==variable])\n",
    "            fraction = num/(den+eps)\n",
    "            entropy += -fraction*log(fraction+eps)\n",
    "        fraction2 = den/len(df)\n",
    "        entropy2 += -fraction2*entropy\n",
    "    return abs(entropy2)\n"
   ]
  },
  {
   "cell_type": "code",
   "execution_count": 10,
   "metadata": {},
   "outputs": [],
   "source": [
    "def find_winner(df):\n",
    "    IG=[]\n",
    "    for key in df.keys()[:-1]:\n",
    "        IG.append(find_entropy(df)-find_entropy_attribute(df,key))\n",
    "    return df.keys()[:-1][np.argmax(IG)]\n"
   ]
  },
  {
   "cell_type": "code",
   "execution_count": 11,
   "metadata": {},
   "outputs": [],
   "source": [
    "def get_subtable(df, node, value):\n",
    "    return df[df[node]==value].reset_index(drop=False)"
   ]
  },
  {
   "cell_type": "code",
   "execution_count": 12,
   "metadata": {},
   "outputs": [
    {
     "name": "stdout",
     "output_type": "stream",
     "text": [
      "\n",
      "\n",
      " The decision tree in dictionary form is \n",
      "{'Taste': {'Salty': {'index': {0: 'No', 6: 'No', 9: 'Yes'}},\n",
      "           'Spicy': {'index': {1: 'No', 2: 'Yes', 3: 'No', 4: 'Yes', 8: 'Yes'}},\n",
      "           'Sweet': 'Yes'}}\n"
     ]
    }
   ],
   "source": [
    "def buildTree(df,d_tree=None):\n",
    "    node = find_winner(df)\n",
    "    attValue = np.unique(df[node])\n",
    "#     attValue ['asd','xycdf']\n",
    "    \n",
    "    if d_tree is None:\n",
    "        d_tree={}\n",
    "        d_tree[node] = {}\n",
    "    for value in attValue:\n",
    "        subtable = get_subtable(df,node,value)\n",
    "        clValue,counts = np.unique(subtable['Species'],return_counts=True)\n",
    "#         print(len(counts))\n",
    "#         print(subtable)\n",
    "        if len(counts)==1:\n",
    "            d_tree[node][value] = clValue[0]\n",
    "            \n",
    "        else:\n",
    "#             print(value)\n",
    "            d_tree[node][value] = buildTree(subtable)\n",
    "    return d_tree\n",
    "\n",
    "dtree = buildTree(df)\n",
    "print(\"\\n\\n The decision tree in dictionary form is \")\n",
    "pprint.pprint(dtree)"
   ]
  },
  {
   "cell_type": "code",
   "execution_count": null,
   "metadata": {},
   "outputs": [],
   "source": []
  },
  {
   "cell_type": "code",
   "execution_count": null,
   "metadata": {},
   "outputs": [],
   "source": []
  }
 ],
 "metadata": {
  "kernelspec": {
   "display_name": "Python 3",
   "language": "python",
   "name": "python3"
  },
  "language_info": {
   "codemirror_mode": {
    "name": "ipython",
    "version": 3
   },
   "file_extension": ".py",
   "mimetype": "text/x-python",
   "name": "python",
   "nbconvert_exporter": "python",
   "pygments_lexer": "ipython3",
   "version": "3.6.5"
  }
 },
 "nbformat": 4,
 "nbformat_minor": 2
}
